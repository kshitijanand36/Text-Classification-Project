{
 "cells": [
  {
   "cell_type": "code",
   "execution_count": 1,
   "metadata": {},
   "outputs": [],
   "source": [
    "import os"
   ]
  },
  {
   "cell_type": "code",
   "execution_count": 2,
   "metadata": {},
   "outputs": [],
   "source": [
    "files = []\n",
    "#extracting the data from the folders\n",
    "folders = (os.listdir(\"mini_newsgroups\\\\mini_newsgroups\"))\n",
    "x = []\n",
    "y =[]\n",
    "#creating the datalist by storing the class name in y in all the text in x\n",
    "for i in folders : \n",
    "    fld=os.listdir(os.path.join(\"mini_newsgroups\\\\mini_newsgroups\", i))\n",
    "    for j in fld:\n",
    "        f = open(os.path.join(\"mini_newsgroups\\\\mini_newsgroups\", i ,j), \"r\",encoding='latin-1')\n",
    "        x.append(f.read())\n",
    "        y.append(i)\n",
    "        f.close()\n",
    "\n"
   ]
  },
  {
   "cell_type": "code",
   "execution_count": 3,
   "metadata": {},
   "outputs": [],
   "source": [
    "#All the current data is in the form of strings so breaking it down into array where each element of array\n",
    "#contains each seperate word.\n",
    "x_ = []#it will be a 2D array containing every  text file which is stroed in an array(hence 2D)\n",
    "for i in range(len(x)):\n",
    "    \n",
    "    x_.append(x[i].split())#adding the words after splitting\n",
    "    \n",
    "    x_[i] = [t.lower() for t in x_[i]]#converting all the words to lowercase so as to avoid complications\n",
    "    \n",
    "#List of stop words which we need to avoid while making our dictionary    \n",
    "stopwords = [\"a\", \"about\", \"above\", \"above\", \"across\", \"after\", \"afterwards\", \"again\", \"against\", \"all\",\"all.\", \"almost\", \"alone\", \"along\", \"already\", \"also\",\"although\",\"always\",\"am\",\"among\", \"amongst\", \"amoungst\", \"amount\",  \"an\", \"and\", \"another\", \"any\",\"anyhow\",\"anyone\",\"anything\",\"anyway\", \"anywhere\", \"are\", \"around\", \"as\",  \"at\", \"back\",\"be\",\"became\", \"because\",\"become\",\"becomes\", \"becoming\", \"been\", \"before\", \"beforehand\", \"behind\", \"being\", \"below\", \"beside\", \"besides\", \"between\", \"beyond\", \"bill\", \"both\", \"bottom\",\"but\", \"by\", \"call\", \"can\", \"cannot\", \"cant\", \"co\", \"con\", \"could\", \"couldnt\", \"cry\", \"de\", \"describe\", \"detail\", \"do\", \"done\", \"down\", \"due\", \"during\", \"each\", \"eg\", \"eight\", \"either\", \"eleven\",\"else\", \"elsewhere\", \"empty\", \"enough\", \"etc\", \"even\", \"ever\", \"every\", \"everyone\", \"everything\", \"everywhere\", \"except\", \"few\", \"fifteen\", \"fify\", \"fill\", \"find\", \"fire\", \"first\", \"five\", \"for\", \"former\", \"formerly\", \"forty\", \"found\", \"four\", \"from\", \"front\", \"full\", \"further\", \"get\", \"give\", \"go\", \"had\", \"has\", \"hasnt\", \"have\", \"he\", \"hence\", \"her\", \"here\", \"hereafter\", \"hereby\", \"herein\", \"hereupon\", \"hers\", \"herself\", \"him\", \"himself\", \"his\", \"how\", \"however\", \"hundred\",\"so,\",\"so.\", \"ie\", \"if\", \"in\", \"inc\",\"we,\",\"we.\" \"indeed\", \"interest\", \"into\", \"is\", \"it\",\"i\", \"its\", \"itself\", \"keep\", \"last\", \"latter\", \"latterly\", \"least\", \"less\", \"ltd\", \"made\", \"many\", \"may\", \"me\",\"me.\", \"meanwhile\", \"might\", \"mill\", \"mine\", \"more\", \"moreover\", \"most\", \"mostly\", \"move\", \"much\", \"must\", \"my\", \"myself\", \"name\", \"namely\", \"neither\", \"never\", \"nevertheless\", \"next\", \"nine\", \"no\", \"nobody\", \"none\", \"noone\", \"nor\", \"not\", \"nothing\", \"now\", \"nowhere\", \"of\", \"off\", \"often\", \"on\", \"once\", \"one\", \"only\", \"onto\", \"or\", \"other\", \"others\", \"otherwise\", \"our\", \"ours\", \"ourselves\", \"out\", \"over\", \"own\",\"part\", \"per\", \"perhaps\", \"please\", \"put\", \"rather\", \"re\", \"same\", \"see\", \"seem\", \"seemed\", \"seeming\", \"seems\", \"serious\", \"several\", \"she\", \"should\", \"show\", \"side\", \"since\", \"sincere\", \"six\", \"sixty\", \"so\", \"some\", \"somehow\", \"someone\", \"something\", \"sometime\", \"sometimes\", \"somewhere\", \"still\", \"such\", \"system\", \"take\", \"ten\", \"than\",\"not.\",\"not,\",\"no.\",\"no,\" ,\"that\",\"that.\",\"this.\", \"the\",\"this,\", \"their\", \"them\", \"themselves\", \"then\", \"thence\", \"there\", \"thereafter\", \"thereby\", \"therefore\",\"therefore,\" \"therein\", \"thereupon\", \"these\", \"they\", \"thick\", \"thin\", \"third\", \"this\", \"those\", \"though\", \"three\", \"through\", \"throughout\", \"thru\", \"thus\", \"to\", \"together\", \"too\", \"top\", \"toward\", \"towards\", \"twelve\", \"twenty\", \"two\", \"un\", \"under\", \"until\", \"up\", \"upon\", \"us\", \"very\", \"via\", \"was\", \"we\", \"well\", \"were\", \"what\", \"whatever\", \"when\", \"whence\", \"whenever\", \"where\", \"whereafter\", \"whereas\", \"whereby\", \"wherein\", \"whereupon\", \"wherever\", \"whether\", \"which\", \"while\", \"whither\", \"who\", \"whoever\", \"whole\", \"whom\", \"whose\", \"why\", \"will\", \"with\", \"within\", \"without\", \"would\", \"yet\", \"you\", \"your\", \"yours\", \"yourself\", \"yourselves\", \"the\"]"
   ]
  },
  {
   "cell_type": "code",
   "execution_count": 4,
   "metadata": {},
   "outputs": [],
   "source": [
    "#A function to check whether a particular key is present or not\n",
    "def checkKey(dict, key): \n",
    "      \n",
    "    if key in dict:\n",
    "        return True\n",
    "    else:\n",
    "        return False\n"
   ]
  },
  {
   "cell_type": "code",
   "execution_count": 5,
   "metadata": {},
   "outputs": [],
   "source": [
    "from sklearn.model_selection import train_test_split\n"
   ]
  },
  {
   "cell_type": "code",
   "execution_count": 6,
   "metadata": {},
   "outputs": [],
   "source": [
    "x_train,x_test,y_train,y_test = train_test_split(x_,y,random_state = 0)#splitting our given data"
   ]
  },
  {
   "cell_type": "code",
   "execution_count": 7,
   "metadata": {},
   "outputs": [
    {
     "data": {
      "text/plain": [
       "1500"
      ]
     },
     "execution_count": 7,
     "metadata": {},
     "output_type": "execute_result"
    }
   ],
   "source": [
    "len(x_train)#for testing purpose only(no significance in the code)"
   ]
  },
  {
   "cell_type": "code",
   "execution_count": 9,
   "metadata": {},
   "outputs": [],
   "source": [
    "#Now we are creating the dictionary here\n",
    "dict = {}\n",
    "for i in range(len(x_train)):#iterating over each document\n",
    "    \n",
    "    for j in range(len(x_train[i])):#iterating over each word of the document\n",
    "        \n",
    "        if x_train[i][j] not in stopwords:#checking whether it is a stopword or not\n",
    "            \n",
    "            if checkKey(dict,x_train[i][j]):#checking if the curr word is already present in dict\n",
    "                dict[x_train[i][j]]+=1#if it is present then simply inc the freq\n",
    "            \n",
    "            #else we need to create a new key of that particular word with freq 1\n",
    "            else:\n",
    "                dict[x_train[i][j]] = 1\n",
    "                \n",
    "    "
   ]
  },
  {
   "cell_type": "code",
   "execution_count": 76,
   "metadata": {
    "scrolled": true
   },
   "outputs": [],
   "source": [
    "#Sorting our given data in decreasing order so that we can find out the cutoff value of the words in dict.\n",
    "#using sorted function returns a tuple for every key,value pair in the map\n",
    "my_dict = sorted(dict.items(), key=lambda x: x[1], reverse=True)\n",
    "# my_dict"
   ]
  },
  {
   "cell_type": "code",
   "execution_count": 11,
   "metadata": {},
   "outputs": [],
   "source": [
    "import matplotlib.pyplot as plt\n",
    "x_axis = []\n",
    "y_axis = []\n",
    "#Now plotting the graph so as to find the cutoff point\n",
    "count = 0\n",
    "for i   in range(1000,len(my_dict)):#Here I am iterating from 1000 because starting from 0 gave a very sharp change\n",
    "                                    #and finding the optimal cutoff was getting difficult due to it\n",
    "    x_axis.append(i)\n",
    "    \n",
    "    y_axis.append(my_dict[i][1])\n",
    "    count+=1"
   ]
  },
  {
   "cell_type": "code",
   "execution_count": 12,
   "metadata": {},
   "outputs": [
    {
     "data": {
      "image/png": "[encoded data removed]",
      "text/plain": [
       "<Figure size 432x288 with 1 Axes>"
      ]
     },
     "metadata": {
      "needs_background": "light"
     },
     "output_type": "display_data"
    }
   ],
   "source": [
    "#Displaying the graph\n",
    "plt.plot(x_axis,y_axis)\n",
    "plt.show()"
   ]
  },
  {
   "cell_type": "code",
   "execution_count": 13,
   "metadata": {},
   "outputs": [],
   "source": [
    "#so from  the graph it seems that a our cutoff value should be around 2000\n",
    "import pandas as pd\n",
    "import numpy as np"
   ]
  },
  {
   "cell_type": "code",
   "execution_count": 40,
   "metadata": {
    "scrolled": true
   },
   "outputs": [
    {
     "data": {
      "text/plain": [
       "2000"
      ]
     },
     "execution_count": 40,
     "metadata": {},
     "output_type": "execute_result"
    }
   ],
   "source": [
    "#Making a list of all the features(words) which are there after choosing the top frequency words\n",
    "feature_names = []\n",
    "for i in range(2000):\n",
    "    feature_names.append(my_dict[i][0])\n",
    "len(feature_names)"
   ]
  },
  {
   "cell_type": "code",
   "execution_count": 19,
   "metadata": {},
   "outputs": [],
   "source": [
    "y_train = np.array(y_train)#converting the y_train from list to numpy array"
   ]
  },
  {
   "cell_type": "code",
   "execution_count": 74,
   "metadata": {},
   "outputs": [
    {
     "data": {
      "text/plain": [
       "(1500, 2000)"
      ]
     },
     "execution_count": 74,
     "metadata": {},
     "output_type": "execute_result"
    }
   ],
   "source": [
    "#Now making the training data into the 2D array form which we can analyize the data\n",
    "\n",
    "data_x = np.zeros(3000000)#Taking all values to be 0 initially\n",
    "\n",
    "data_x = data_x.reshape(1500,2000)#reshaping it in the form of a 2D array\n",
    "data_x.shape"
   ]
  },
  {
   "cell_type": "code",
   "execution_count": 16,
   "metadata": {},
   "outputs": [],
   "source": [
    "#Now filling the training data which we just created\n",
    "for i in range(len(x_train)): #iterating ove every document\n",
    "    \n",
    "    for j in range(len(x_train[i])):#iterating ove every word of the current document\n",
    "        \n",
    "        for k in range(2000):#iterating over the feature set of the top words\n",
    "            \n",
    "            if x_train[i][j] == feature_names[k]: #checking if the particular word is in the feature list\n",
    "                \n",
    "                data_x[i][k]+=1#if yes increment the freq by 1\n",
    "                continue"
   ]
  },
  {
   "cell_type": "code",
   "execution_count": 17,
   "metadata": {},
   "outputs": [
    {
     "data": {
      "text/plain": [
       "array([[0., 1., 1., ..., 0., 0., 0.],\n",
       "       [1., 1., 1., ..., 0., 0., 0.],\n",
       "       [6., 1., 1., ..., 0., 0., 0.],\n",
       "       ...,\n",
       "       [1., 1., 1., ..., 0., 0., 0.],\n",
       "       [0., 1., 1., ..., 0., 0., 0.],\n",
       "       [7., 1., 1., ..., 0., 0., 0.]])"
      ]
     },
     "execution_count": 17,
     "metadata": {},
     "output_type": "execute_result"
    }
   ],
   "source": [
    "data_x#testing "
   ]
  },
  {
   "cell_type": "code",
   "execution_count": 20,
   "metadata": {},
   "outputs": [
    {
     "data": {
      "text/plain": [
       "numpy.ndarray"
      ]
     },
     "execution_count": 20,
     "metadata": {},
     "output_type": "execute_result"
    }
   ],
   "source": [
    "type(y_train)#testing"
   ]
  },
  {
   "cell_type": "code",
   "execution_count": 21,
   "metadata": {},
   "outputs": [],
   "source": [
    "#Now training over the given data\n",
    "#This function returns a dictionary.\n",
    "def train(X_train,Y_train):\n",
    "    \n",
    "    count = {}#The dictionary that we will finally return \n",
    "    all_classes = set(Y_train)#finding all unique values in y_train\n",
    "                               #this will be the total classes available \n",
    "    \n",
    "    for curr_class in all_classes:#iterating over each class\n",
    "        \n",
    "        curr_class_rows = (Y_train == curr_class)\n",
    "        x_curr = X_train[curr_class_rows]#the x_train with all of them having o/p as curr_clas\n",
    "        y_curr = Y_train[curr_class_rows]\n",
    "        count[curr_class] = {}#creating another dictionary of features in the current class\n",
    "        ans = 0;\n",
    "        \n",
    "        for j in range(2000):#iterating over all the features\n",
    "            count[curr_class][j] = x_curr[:,j].sum()\n",
    "            ans+= x_curr[:,j].sum()\n",
    "            \n",
    "        count[curr_class][\"total\"] = ans#finally storing the total for the curr class\n",
    "                                        #we will use this when will calculate the probability later\n",
    "        \n",
    "    return count"
   ]
  },
  {
   "cell_type": "code",
   "execution_count": 77,
   "metadata": {
    "scrolled": true
   },
   "outputs": [],
   "source": [
    "count_dict = train(data_x,y_train)\n",
    "# count_dict #the dictionary we got after training"
   ]
  },
  {
   "cell_type": "code",
   "execution_count": 24,
   "metadata": {},
   "outputs": [],
   "source": [
    "import math as m"
   ]
  },
  {
   "cell_type": "code",
   "execution_count": 48,
   "metadata": {},
   "outputs": [],
   "source": [
    "#function calculating the prob\n",
    "def probability(word,dict,curr_class):\n",
    "    \n",
    "    k = len(dict[curr_class].keys()) - 1 #No. of features in the curr_class(-1 is done as it also contains \"total\")\n",
    "    \n",
    "    total_curr_class = m.log(dict[curr_class][\"total\"] +k) #total in curr class\n",
    "    freq_word_curr = m.log(dict[curr_class][word] +1) #freq of curr word in that class\n",
    "    ans = freq_word_curr - total_curr_class #equivalent to dividing the 2 as we have taken the log\n",
    "    return ans"
   ]
  },
  {
   "cell_type": "code",
   "execution_count": 51,
   "metadata": {},
   "outputs": [],
   "source": [
    "#predicting for every document of the testing data \n",
    "def predict_one(x,dict):\n",
    "    \n",
    "    classes = (dict.keys())\n",
    "    max_class = \"\"\n",
    "    max_ans = -10000\n",
    "    for curr_class in classes:#loop over all classes\n",
    "        ans = 0\n",
    "        for i in range(len(x)):#iterating over each word\n",
    "            \n",
    "            if x[i] in feature_names: #checking if it is presnt in the feature list then only we calculate the prob.\n",
    "                \n",
    "                index = feature_names.index(x[i])#getting the index of that particular element from the feature set \n",
    "                                                  #that we created as we have used the same numbering in the dictionary\n",
    "                                                   #as well\n",
    "                \n",
    "                ans+=probability(index,dict,curr_class)#equivalent to multiplying as the results are logarithmic\n",
    "                \n",
    "        if ans>=max_ans: #checking if it is the max so far\n",
    "            max_ans = ans\n",
    "            max_class = curr_class\n",
    "    \n",
    "    return max_class"
   ]
  },
  {
   "cell_type": "code",
   "execution_count": 43,
   "metadata": {},
   "outputs": [],
   "source": [
    "#the predict function that we will be using\n",
    "#it will return an array havin all the values of predictions over every test data\n",
    "def predict(x_test, dict):\n",
    "    output = []\n",
    "    for i in range(len(x_test)):#iterating over each test document\n",
    "        \n",
    "        ans = predict_one(x_test[i],dict)#adding the ans to u=our final list\n",
    "        output.append(ans)\n",
    "        \n",
    "    return output"
   ]
  },
  {
   "cell_type": "code",
   "execution_count": 52,
   "metadata": {},
   "outputs": [],
   "source": [
    "#here we have the predicitions\n",
    "y_pred = predict(x_test,count_dict)\n"
   ]
  },
  {
   "cell_type": "code",
   "execution_count": 57,
   "metadata": {},
   "outputs": [
    {
     "data": {
      "text/plain": [
       "'rec.autos'"
      ]
     },
     "execution_count": 57,
     "metadata": {},
     "output_type": "execute_result"
    }
   ],
   "source": [
    "y_pred[0]#testing "
   ]
  },
  {
   "cell_type": "code",
   "execution_count": 70,
   "metadata": {},
   "outputs": [],
   "source": [
    "from sklearn.metrics import classification_report, confusion_matrix\n"
   ]
  },
  {
   "cell_type": "code",
   "execution_count": 60,
   "metadata": {},
   "outputs": [],
   "source": [
    "from sklearn.naive_bayes import MultinomialNB "
   ]
  },
  {
   "cell_type": "code",
   "execution_count": 62,
   "metadata": {},
   "outputs": [
    {
     "data": {
      "text/plain": [
       "MultinomialNB(alpha=1.0, class_prior=None, fit_prior=True)"
      ]
     },
     "execution_count": 62,
     "metadata": {},
     "output_type": "execute_result"
    }
   ],
   "source": [
    "#Now from here we are using the inbuilt multinomial classifier for verifying our results\n",
    "clf = MultinomialNB()\n",
    "clf.fit(data_x,y_train)"
   ]
  },
  {
   "cell_type": "code",
   "execution_count": 64,
   "metadata": {},
   "outputs": [],
   "source": [
    "#since the inbuilt classifier needs test_data in the same form as the training data\n",
    "#we need to convert it into that form\n",
    "data_x_test = np.zeros(1000000)\n",
    "data_x_test = data_x_test.reshape(500,2000)\n",
    "data_x_test[0].shape\n",
    "for i in range(len(x_test)):\n",
    "    for j in range(len(x_test[i])):\n",
    "        for k in range(2000):\n",
    "            if x_test[i][j] == feature_names[k]:\n",
    "                data_x_test[i][k]+=1\n",
    "                continue"
   ]
  },
  {
   "cell_type": "code",
   "execution_count": 73,
   "metadata": {},
   "outputs": [
    {
     "name": "stdout",
     "output_type": "stream",
     "text": [
      "                          precision    recall  f1-score   support\n",
      "\n",
      "                               0.00      0.00      0.00         0\n",
      "             alt.atheism       0.97      1.00      0.99        34\n",
      "           comp.graphics       1.00      0.87      0.93        15\n",
      " comp.os.ms-windows.misc       0.97      1.00      0.98        32\n",
      "comp.sys.ibm.pc.hardware       1.00      0.98      0.99        42\n",
      "   comp.sys.mac.hardware       1.00      1.00      1.00        29\n",
      "          comp.windows.x       1.00      1.00      1.00        16\n",
      "            misc.forsale       1.00      1.00      1.00        46\n",
      "               rec.autos       1.00      1.00      1.00        30\n",
      "         rec.motorcycles       1.00      1.00      1.00        35\n",
      "      rec.sport.baseball       1.00      1.00      1.00        30\n",
      "        rec.sport.hockey       1.00      1.00      1.00        13\n",
      "               sci.crypt       1.00      1.00      1.00        19\n",
      "         sci.electronics       1.00      1.00      1.00         7\n",
      "                 sci.med       1.00      1.00      1.00        17\n",
      "               sci.space       1.00      1.00      1.00        24\n",
      "  soc.religion.christian       1.00      1.00      1.00        24\n",
      "      talk.politics.guns       1.00      1.00      1.00        33\n",
      "   talk.politics.mideast       1.00      1.00      1.00        24\n",
      "      talk.politics.misc       1.00      1.00      1.00        14\n",
      "      talk.religion.misc       1.00      0.94      0.97        16\n",
      "\n",
      "                accuracy                           0.99       500\n",
      "               macro avg       0.95      0.94      0.95       500\n",
      "            weighted avg       1.00      0.99      0.99       500\n",
      "\n",
      "[[ 0  0  0  0  0  0  0  0  0  0  0  0  0  0  0  0  0  0  0  0  0]\n",
      " [ 0 34  0  0  0  0  0  0  0  0  0  0  0  0  0  0  0  0  0  0  0]\n",
      " [ 2  0 13  0  0  0  0  0  0  0  0  0  0  0  0  0  0  0  0  0  0]\n",
      " [ 0  0  0 32  0  0  0  0  0  0  0  0  0  0  0  0  0  0  0  0  0]\n",
      " [ 0  0  0  1 41  0  0  0  0  0  0  0  0  0  0  0  0  0  0  0  0]\n",
      " [ 0  0  0  0  0 29  0  0  0  0  0  0  0  0  0  0  0  0  0  0  0]\n",
      " [ 0  0  0  0  0  0 16  0  0  0  0  0  0  0  0  0  0  0  0  0  0]\n",
      " [ 0  0  0  0  0  0  0 46  0  0  0  0  0  0  0  0  0  0  0  0  0]\n",
      " [ 0  0  0  0  0  0  0  0 30  0  0  0  0  0  0  0  0  0  0  0  0]\n",
      " [ 0  0  0  0  0  0  0  0  0 35  0  0  0  0  0  0  0  0  0  0  0]\n",
      " [ 0  0  0  0  0  0  0  0  0  0 30  0  0  0  0  0  0  0  0  0  0]\n",
      " [ 0  0  0  0  0  0  0  0  0  0  0 13  0  0  0  0  0  0  0  0  0]\n",
      " [ 0  0  0  0  0  0  0  0  0  0  0  0 19  0  0  0  0  0  0  0  0]\n",
      " [ 0  0  0  0  0  0  0  0  0  0  0  0  0  7  0  0  0  0  0  0  0]\n",
      " [ 0  0  0  0  0  0  0  0  0  0  0  0  0  0 17  0  0  0  0  0  0]\n",
      " [ 0  0  0  0  0  0  0  0  0  0  0  0  0  0  0 24  0  0  0  0  0]\n",
      " [ 0  0  0  0  0  0  0  0  0  0  0  0  0  0  0  0 24  0  0  0  0]\n",
      " [ 0  0  0  0  0  0  0  0  0  0  0  0  0  0  0  0  0 33  0  0  0]\n",
      " [ 0  0  0  0  0  0  0  0  0  0  0  0  0  0  0  0  0  0 24  0  0]\n",
      " [ 0  0  0  0  0  0  0  0  0  0  0  0  0  0  0  0  0  0  0 14  0]\n",
      " [ 0  1  0  0  0  0  0  0  0  0  0  0  0  0  0  0  0  0  0  0 15]]\n"
     ]
    },
    {
     "name": "stderr",
     "output_type": "stream",
     "text": [
      "C:\\Users\\KSHITIJ ANAND\\anaconda3\\lib\\site-packages\\sklearn\\metrics\\_classification.py:1272: UndefinedMetricWarning: Recall and F-score are ill-defined and being set to 0.0 in labels with no true samples. Use `zero_division` parameter to control this behavior.\n",
      "  _warn_prf(average, modifier, msg_start, len(result))\n"
     ]
    }
   ],
   "source": [
    "#Now comparing our results from that of inbuilt classifer\n",
    "y_pred_internal = clf.predict(data_x_test)\n",
    "print(classification_report(y_pred_internal,y_pred))\n",
    "print(confusion_matrix(y_pred_internal,y_pred))"
   ]
  },
  {
   "cell_type": "code",
   "execution_count": 75,
   "metadata": {},
   "outputs": [
    {
     "data": {
      "image/png": "[encoded data removed]",
      "text/plain": [
       "<Figure size 432x288 with 1 Axes>"
      ]
     },
     "metadata": {
      "needs_background": "light"
     },
     "output_type": "display_data"
    }
   ],
   "source": [
    "#just plotting to see how well our classifer is performing wrt to the inbuilt. \n",
    "plt.scatter(y_pred_internal,y_pred)\n",
    "plt.show()"
   ]
  }
 ],
 "metadata": {
  "kernelspec": {
   "display_name": "Python 3",
   "language": "python",
   "name": "python3"
  },
  "language_info": {
   "codemirror_mode": {
    "name": "ipython",
    "version": 3
   },
   "file_extension": ".py",
   "mimetype": "text/x-python",
   "name": "python",
   "nbconvert_exporter": "python",
   "pygments_lexer": "ipython3",
   "version": "3.7.6"
  }
 },
 "nbformat": 4,
 "nbformat_minor": 4
}
